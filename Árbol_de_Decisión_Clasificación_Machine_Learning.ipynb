{
  "cells": [
    {
      "cell_type": "markdown",
      "metadata": {
        "id": "view-in-github",
        "colab_type": "text"
      },
      "source": [
        "<a href=\"https://colab.research.google.com/github/Psyclophe/Power-PDF/blob/master/%C3%81rbol_de_Decisi%C3%B3n_Clasificaci%C3%B3n_Machine_Learning.ipynb\" target=\"_parent\"><img src=\"https://colab.research.google.com/assets/colab-badge.svg\" alt=\"Open In Colab\"/></a>"
      ]
    },
    {
      "cell_type": "markdown",
      "metadata": {
        "id": "s6dEIRkBlRcV"
      },
      "source": [
        "### Data Science\n",
        "### Módulo 2 _ Machine Learning\n",
        "### Aprendizaje supervisado\n",
        "\n",
        "# Arboles de Decisión - Regresión \n",
        "### `Skillsforindustry.org`\n"
      ]
    },
    {
      "cell_type": "code",
      "execution_count": null,
      "metadata": {
        "id": "3eKhqFqMlRcZ"
      },
      "outputs": [],
      "source": [
        "# Tratamiento de datos\n",
        "import numpy as np\n",
        "import pandas as pd\n",
        "import statsmodels.api as sm\n",
        "\n",
        "# Gráficos\n",
        "import matplotlib.pyplot as plt\n",
        "\n",
        "# Preprocesado y modelado\n",
        "from sklearn.model_selection import train_test_split\n",
        "from sklearn.tree import DecisionTreeClassifier\n",
        "from sklearn.tree import plot_tree\n",
        "from sklearn.tree import export_graphviz\n",
        "from sklearn.tree import export_text\n",
        "from sklearn.model_selection import GridSearchCV\n",
        "from sklearn.compose import ColumnTransformer\n",
        "from sklearn.preprocessing import OneHotEncoder\n",
        "from sklearn.metrics import accuracy_score\n",
        "from sklearn.metrics import confusion_matrix\n",
        "\n",
        "# Configuración warnings\n",
        "import warnings\n",
        "warnings.filterwarnings('once')"
      ]
    },
    {
      "cell_type": "markdown",
      "metadata": {
        "id": "lSOKeOg5lRca"
      },
      "source": [
        "El set de datos `Carseats`,  accesible en Python a través de `statsmodels.datasets.get_rdataset`, contiene información sobre la venta de sillas infantiles en 400 tiendas distintas. Para cada una de las 400 tiendas se han registrado 11 variables. Se pretende generar un modelo de clasificación que permita predecir si una tienda tiene ventas altas (Sales > 8) o bajas (Sales <= 8) en función de todas las variables disponibles.\n",
        "\n"
      ]
    },
    {
      "cell_type": "code",
      "execution_count": null,
      "metadata": {
        "id": "xz2pC6EGlRca",
        "outputId": "cd14ed67-ef74-4e08-9a0b-197ad4a90034"
      },
      "outputs": [
        {
          "name": "stderr",
          "output_type": "stream",
          "text": [
            "c:\\users\\user\\appdata\\local\\programs\\python\\python39\\lib\\site-packages\\ipykernel\\ipkernel.py:287: DeprecationWarning: `should_run_async` will not call `transform_cell` automatically in the future. Please pass the result to `transformed_cell` argument and any exception that happen during thetransform in `preprocessing_exc_tuple` in IPython 7.17 and above.\n",
            "  and should_run_async(code)\n"
          ]
        },
        {
          "name": "stdout",
          "output_type": "stream",
          "text": [
            "======== ===============\n",
            "Carseats R Documentation\n",
            "======== ===============\n",
            "\n",
            "Sales of Child Car Seats\n",
            "------------------------\n",
            "\n",
            "Description\n",
            "~~~~~~~~~~~\n",
            "\n",
            "A simulated data set containing sales of child car seats at 400\n",
            "different stores.\n",
            "\n",
            "Usage\n",
            "~~~~~\n",
            "\n",
            "::\n",
            "\n",
            "   Carseats\n",
            "\n",
            "Format\n",
            "~~~~~~\n",
            "\n",
            "A data frame with 400 observations on the following 11 variables.\n",
            "\n",
            "``Sales``\n",
            "   Unit sales (in thousands) at each location\n",
            "\n",
            "``CompPrice``\n",
            "   Price charged by competitor at each location\n",
            "\n",
            "``Income``\n",
            "   Community income level (in thousands of dollars)\n",
            "\n",
            "``Advertising``\n",
            "   Local advertising budget for company at each location (in thousands\n",
            "   of dollars)\n",
            "\n",
            "``Population``\n",
            "   Population size in region (in thousands)\n",
            "\n",
            "``Price``\n",
            "   Price company charges for car seats at each site\n",
            "\n",
            "``ShelveLoc``\n",
            "   A factor with levels ``Bad``, ``Good`` and ``Medium`` indicating the\n",
            "   quality of the shelving location for the car seats at each site\n",
            "\n",
            "``Age``\n",
            "   Average age of the local population\n",
            "\n",
            "``Education``\n",
            "   Education level at each location\n",
            "\n",
            "``Urban``\n",
            "   A factor with levels ``No`` and ``Yes`` to indicate whether the store\n",
            "   is in an urban or rural location\n",
            "\n",
            "``US``\n",
            "   A factor with levels ``No`` and ``Yes`` to indicate whether the store\n",
            "   is in the US or not\n",
            "\n",
            "Source\n",
            "~~~~~~\n",
            "\n",
            "Simulated data\n",
            "\n",
            "References\n",
            "~~~~~~~~~~\n",
            "\n",
            "James, G., Witten, D., Hastie, T., and Tibshirani, R. (2013) *An\n",
            "Introduction to Statistical Learning with applications in R*,\n",
            "`www.StatLearning.com <www.StatLearning.com>`__, Springer-Verlag, New\n",
            "York\n",
            "\n",
            "Examples\n",
            "~~~~~~~~\n",
            "\n",
            "::\n",
            "\n",
            "   summary(Carseats)\n",
            "   lm.fit=lm(Sales~Advertising+Price,data=Carseats)\n",
            "\n"
          ]
        }
      ],
      "source": [
        "carseats = sm.datasets.get_rdataset(\"Carseats\", \"ISLR\")\n",
        "datos = carseats.data\n",
        "print(carseats.__doc__)"
      ]
    },
    {
      "cell_type": "code",
      "execution_count": null,
      "metadata": {
        "id": "kClUo29dlRcb",
        "outputId": "bf30b365-d586-4223-b164-22d323e0b9f5"
      },
      "outputs": [
        {
          "data": {
            "text/html": [
              "<div>\n",
              "<style scoped>\n",
              "    .dataframe tbody tr th:only-of-type {\n",
              "        vertical-align: middle;\n",
              "    }\n",
              "\n",
              "    .dataframe tbody tr th {\n",
              "        vertical-align: top;\n",
              "    }\n",
              "\n",
              "    .dataframe thead th {\n",
              "        text-align: right;\n",
              "    }\n",
              "</style>\n",
              "<table border=\"1\" class=\"dataframe\">\n",
              "  <thead>\n",
              "    <tr style=\"text-align: right;\">\n",
              "      <th></th>\n",
              "      <th>Sales</th>\n",
              "      <th>CompPrice</th>\n",
              "      <th>Income</th>\n",
              "      <th>Advertising</th>\n",
              "      <th>Population</th>\n",
              "      <th>Price</th>\n",
              "      <th>ShelveLoc</th>\n",
              "      <th>Age</th>\n",
              "      <th>Education</th>\n",
              "      <th>Urban</th>\n",
              "      <th>US</th>\n",
              "    </tr>\n",
              "  </thead>\n",
              "  <tbody>\n",
              "    <tr>\n",
              "      <th>0</th>\n",
              "      <td>9.50</td>\n",
              "      <td>138</td>\n",
              "      <td>73</td>\n",
              "      <td>11</td>\n",
              "      <td>276</td>\n",
              "      <td>120</td>\n",
              "      <td>Bad</td>\n",
              "      <td>42</td>\n",
              "      <td>17</td>\n",
              "      <td>Yes</td>\n",
              "      <td>Yes</td>\n",
              "    </tr>\n",
              "    <tr>\n",
              "      <th>1</th>\n",
              "      <td>11.22</td>\n",
              "      <td>111</td>\n",
              "      <td>48</td>\n",
              "      <td>16</td>\n",
              "      <td>260</td>\n",
              "      <td>83</td>\n",
              "      <td>Good</td>\n",
              "      <td>65</td>\n",
              "      <td>10</td>\n",
              "      <td>Yes</td>\n",
              "      <td>Yes</td>\n",
              "    </tr>\n",
              "    <tr>\n",
              "      <th>2</th>\n",
              "      <td>10.06</td>\n",
              "      <td>113</td>\n",
              "      <td>35</td>\n",
              "      <td>10</td>\n",
              "      <td>269</td>\n",
              "      <td>80</td>\n",
              "      <td>Medium</td>\n",
              "      <td>59</td>\n",
              "      <td>12</td>\n",
              "      <td>Yes</td>\n",
              "      <td>Yes</td>\n",
              "    </tr>\n",
              "  </tbody>\n",
              "</table>\n",
              "</div>"
            ],
            "text/plain": [
              "   Sales  CompPrice  Income  Advertising  Population  Price ShelveLoc  Age  \\\n",
              "0   9.50        138      73           11         276    120       Bad   42   \n",
              "1  11.22        111      48           16         260     83      Good   65   \n",
              "2  10.06        113      35           10         269     80    Medium   59   \n",
              "\n",
              "   Education Urban   US  \n",
              "0         17   Yes  Yes  \n",
              "1         10   Yes  Yes  \n",
              "2         12   Yes  Yes  "
            ]
          },
          "execution_count": 3,
          "metadata": {},
          "output_type": "execute_result"
        }
      ],
      "source": [
        "datos.head(3)\n"
      ]
    },
    {
      "cell_type": "markdown",
      "metadata": {
        "id": "QnJ4zIlalRcb"
      },
      "source": [
        "Como `Sales` es una variable continua y el objetivo del estudio es clasificar las tiendas según si venden mucho o poco, se crea una nueva variable dicotómica (0, 1) llamada `ventas_altas`.\n",
        "\n"
      ]
    },
    {
      "cell_type": "code",
      "execution_count": null,
      "metadata": {
        "id": "4Yn7Qk8IlRcc",
        "outputId": "f9051147-2cee-4d1c-961a-4a6caf2d81c3"
      },
      "outputs": [
        {
          "name": "stderr",
          "output_type": "stream",
          "text": [
            "c:\\users\\user\\appdata\\local\\programs\\python\\python39\\lib\\site-packages\\ipykernel\\ipkernel.py:287: DeprecationWarning: `should_run_async` will not call `transform_cell` automatically in the future. Please pass the result to `transformed_cell` argument and any exception that happen during thetransform in `preprocessing_exc_tuple` in IPython 7.17 and above.\n",
            "  and should_run_async(code)\n"
          ]
        }
      ],
      "source": [
        "datos['ventas_altas'] = np.where(datos.Sales > 8, 0, 1)\n",
        "# Una vez creada la nueva variable respuesta se descarta la original\n",
        "datos = datos.drop(columns = 'Sales')"
      ]
    },
    {
      "cell_type": "markdown",
      "metadata": {
        "id": "QMmcGTIelRcc"
      },
      "source": [
        "## Ajustando el Modelo"
      ]
    },
    {
      "cell_type": "markdown",
      "metadata": {
        "id": "_4s3kipFlRcd"
      },
      "source": [
        "Se ajusta un árbol de clasificación empleando como variable respuesta `ventas_altas` y como predictores todas las variables disponibles. Se utilizan en primer lugar los hiperparámetros `max_depth=5` y `criterion='gini'`, el resto se dejan por defecto. Después, se aplica el proceso de pruning y se comparan los resultados frente al modelo inicial.\n",
        "\n",
        "A diferencia del ejemplo anterior, en estos datos hay variables categóricas por lo que, antes de entrenar el modelo, es necesario aplicar one-hot-encoding."
      ]
    },
    {
      "cell_type": "code",
      "execution_count": null,
      "metadata": {
        "id": "puI7gDMalRcd",
        "outputId": "907484d7-c679-4b6a-b784-d31c6b8c3b6d"
      },
      "outputs": [
        {
          "name": "stderr",
          "output_type": "stream",
          "text": [
            "c:\\users\\user\\appdata\\local\\programs\\python\\python39\\lib\\site-packages\\ipykernel\\ipkernel.py:287: DeprecationWarning: `should_run_async` will not call `transform_cell` automatically in the future. Please pass the result to `transformed_cell` argument and any exception that happen during thetransform in `preprocessing_exc_tuple` in IPython 7.17 and above.\n",
            "  and should_run_async(code)\n"
          ]
        }
      ],
      "source": [
        "# División de los datos en train y test\n",
        "X_train, X_test, y_train, y_test = train_test_split(\n",
        "                                        datos.drop(columns = 'ventas_altas'),\n",
        "                                        datos['ventas_altas'],\n",
        "                                        random_state = 123\n",
        "                                    )\n",
        "\n",
        "# One-hot-encoding de las variables categóricas\n",
        "# Se identifica el nobre de las columnas numéricas y categóricas\n",
        "cat_cols = X_train.select_dtypes(include=['object', 'category']).columns.to_list()\n",
        "numeric_cols = X_train.select_dtypes(include=['float64', 'int64']).columns.to_list()\n",
        "\n",
        "# Se aplica one-hot-encoding solo a las columnas categóricas\n",
        "preprocessor = ColumnTransformer(\n",
        "                    [('onehot', OneHotEncoder(handle_unknown='ignore'), cat_cols)],\n",
        "                    remainder='passthrough'\n",
        "               )\n",
        "\n"
      ]
    },
    {
      "cell_type": "code",
      "execution_count": null,
      "metadata": {
        "id": "K0dQ7bgklRce"
      },
      "outputs": [],
      "source": [
        "# Una vez que se ha definido el objeto ColumnTransformer, con el método fit()\n",
        "# se aprenden las transformaciones con los datos de entrenamiento y se aplican a\n",
        "# los dos conjuntos con transform(). Ambas operaciones a la vez con fit_transform().\n",
        "X_train_prep = preprocessor.fit_transform(X_train)\n",
        "X_test_prep  = preprocessor.transform(X_test)"
      ]
    },
    {
      "cell_type": "markdown",
      "metadata": {
        "id": "GaBYlGXmlRce"
      },
      "source": [
        "El resultado devuelto por `ColumnTransformer` es un `numpy array`, por lo que se pierden los nombres de las columnas. Suele ser interesante poder inspeccionar cómo queda el set de datos tras el preprocesado en formato `dataframe`. Por defecto, `OneHotEncoder` ordena las nuevas columnas de izquierda a derecha por orden alfabético.\n",
        "\n"
      ]
    },
    {
      "cell_type": "code",
      "execution_count": null,
      "metadata": {
        "id": "skYF-E91lRce",
        "outputId": "3f98ee9d-86a3-419e-f23e-64f9529ff6cd"
      },
      "outputs": [
        {
          "name": "stdout",
          "output_type": "stream",
          "text": [
            "<class 'pandas.core.frame.DataFrame'>\n",
            "RangeIndex: 300 entries, 0 to 299\n",
            "Data columns (total 14 columns):\n",
            " #   Column            Non-Null Count  Dtype  \n",
            "---  ------            --------------  -----  \n",
            " 0   CompPrice         300 non-null    float64\n",
            " 1   Income            300 non-null    float64\n",
            " 2   Advertising       300 non-null    float64\n",
            " 3   Population        300 non-null    float64\n",
            " 4   Price             300 non-null    float64\n",
            " 5   Age               300 non-null    float64\n",
            " 6   Education         300 non-null    float64\n",
            " 7   ShelveLoc_Bad     300 non-null    float64\n",
            " 8   ShelveLoc_Good    300 non-null    float64\n",
            " 9   ShelveLoc_Medium  300 non-null    float64\n",
            " 10  Urban_No          300 non-null    float64\n",
            " 11  Urban_Yes         300 non-null    float64\n",
            " 12  US_No             300 non-null    float64\n",
            " 13  US_Yes            300 non-null    float64\n",
            "dtypes: float64(14)\n",
            "memory usage: 32.9 KB\n"
          ]
        }
      ],
      "source": [
        "# Convertir el output del ColumnTransformer en dataframe y añadir el nombre de las columnas\n",
        "# Nombre de todas las columnas\n",
        "encoded_cat = preprocessor.named_transformers_['onehot'].get_feature_names(cat_cols)\n",
        "labels = np.concatenate([numeric_cols, encoded_cat])\n",
        "\n",
        "# Conversión a dataframe\n",
        "X_train_prep = pd.DataFrame(X_train_prep, columns=labels)\n",
        "X_test_prep  = pd.DataFrame(X_test_prep, columns=labels)\n",
        "X_train_prep.info()"
      ]
    },
    {
      "cell_type": "code",
      "execution_count": null,
      "metadata": {
        "id": "0Sg9d0RSlRcf",
        "outputId": "67233108-9591-433c-c461-069a9d0e2934"
      },
      "outputs": [
        {
          "name": "stderr",
          "output_type": "stream",
          "text": [
            "c:\\users\\user\\appdata\\local\\programs\\python\\python39\\lib\\site-packages\\ipykernel\\ipkernel.py:287: DeprecationWarning: `should_run_async` will not call `transform_cell` automatically in the future. Please pass the result to `transformed_cell` argument and any exception that happen during thetransform in `preprocessing_exc_tuple` in IPython 7.17 and above.\n",
            "  and should_run_async(code)\n"
          ]
        },
        {
          "data": {
            "text/plain": [
              "DecisionTreeClassifier(max_depth=5, random_state=123)"
            ]
          },
          "execution_count": 32,
          "metadata": {},
          "output_type": "execute_result"
        }
      ],
      "source": [
        "# Creación del modelo\n",
        "# ------------------------------------------------------------------------------\n",
        "modelo = DecisionTreeClassifier(\n",
        "            max_depth         = 5,\n",
        "            criterion         = 'gini',\n",
        "            random_state      = 123\n",
        "          )\n",
        "\n",
        "# Entrenamiento del modelo\n",
        "# ------------------------------------------------------------------------------\n",
        "modelo.fit(X_train_prep, y_train)"
      ]
    },
    {
      "cell_type": "code",
      "execution_count": null,
      "metadata": {
        "id": "l8ZdQKoElRcf",
        "outputId": "75c91c7c-e67c-4df8-d7d5-e8d2c87f0d2f"
      },
      "outputs": [
        {
          "name": "stderr",
          "output_type": "stream",
          "text": [
            "c:\\users\\user\\appdata\\local\\programs\\python\\python39\\lib\\site-packages\\ipykernel\\ipkernel.py:287: DeprecationWarning: `should_run_async` will not call `transform_cell` automatically in the future. Please pass the result to `transformed_cell` argument and any exception that happen during thetransform in `preprocessing_exc_tuple` in IPython 7.17 and above.\n",
            "  and should_run_async(code)\n"
          ]
        },
        {
          "name": "stdout",
          "output_type": "stream",
          "text": [
            "Profundidad del árbol: 5\n",
            "Número de nodos terminales: 23\n"
          ]
        },
        {
          "data": {
            "image/png": "[encoded data removed]",
            "text/plain": [
              "<Figure size 936x432 with 1 Axes>"
            ]
          },
          "metadata": {
            "needs_background": "light"
          },
          "output_type": "display_data"
        }
      ],
      "source": [
        "# Estructura del árbol creado\n",
        "# ------------------------------------------------------------------------------\n",
        "fig, ax = plt.subplots(figsize=(13, 6))\n",
        "\n",
        "print(f\"Profundidad del árbol: {modelo.get_depth()}\")\n",
        "print(f\"Número de nodos terminales: {modelo.get_n_leaves()}\")\n",
        "\n",
        "plot = plot_tree(\n",
        "            decision_tree = modelo,\n",
        "            feature_names = labels.tolist(),\n",
        "            class_names   = 'ventas_altas',\n",
        "            filled        = True,\n",
        "            impurity      = False,\n",
        "            fontsize      = 7,\n",
        "            ax            = ax\n",
        "       )"
      ]
    },
    {
      "cell_type": "markdown",
      "metadata": {
        "id": "zMSXURZylRcf"
      },
      "source": [
        "## Predicción y evaluación del modelo"
      ]
    },
    {
      "cell_type": "markdown",
      "metadata": {
        "id": "NTsZHGr6lRcg"
      },
      "source": [
        "Se evalúa la capacidad predictiva del árbol inicial calculando el accuracy en el conjunto de test.\n",
        "\n"
      ]
    },
    {
      "cell_type": "code",
      "execution_count": null,
      "metadata": {
        "id": "Sdez7BPvlRcg",
        "outputId": "c86aaafb-751b-4148-e6f1-4abd0a6df19c"
      },
      "outputs": [
        {
          "name": "stdout",
          "output_type": "stream",
          "text": [
            "Matriz de confusión\n",
            "-------------------\n"
          ]
        },
        {
          "data": {
            "text/plain": [
              "array([[29, 21],\n",
              "       [ 7, 43]], dtype=int64)"
            ]
          },
          "execution_count": 34,
          "metadata": {},
          "output_type": "execute_result"
        }
      ],
      "source": [
        "# Error de test del modelo\n",
        "#-------------------------------------------------------------------------------\n",
        "predicciones = modelo.predict(X = X_test_prep,)\n",
        "\n",
        "print(\"Matriz de confusión\")\n",
        "print(\"-------------------\")\n",
        "confusion_matrix(\n",
        "    y_true    = y_test,\n",
        "    y_pred    = predicciones\n",
        ")"
      ]
    },
    {
      "cell_type": "code",
      "execution_count": null,
      "metadata": {
        "id": "ANssHh9jlRch",
        "outputId": "0f665d9a-ef1e-49ef-c1f3-27b24b8ae68f"
      },
      "outputs": [
        {
          "name": "stdout",
          "output_type": "stream",
          "text": [
            "El accuracy de test es: 72.0 %\n"
          ]
        },
        {
          "name": "stderr",
          "output_type": "stream",
          "text": [
            "c:\\users\\user\\appdata\\local\\programs\\python\\python39\\lib\\site-packages\\ipykernel\\ipkernel.py:287: DeprecationWarning: `should_run_async` will not call `transform_cell` automatically in the future. Please pass the result to `transformed_cell` argument and any exception that happen during thetransform in `preprocessing_exc_tuple` in IPython 7.17 and above.\n",
            "  and should_run_async(code)\n"
          ]
        }
      ],
      "source": [
        "accuracy = accuracy_score(\n",
        "            y_true    = y_test,\n",
        "            y_pred    = predicciones,\n",
        "            normalize = True\n",
        "           )\n",
        "print(f\"El accuracy de test es: {100 * accuracy} %\")"
      ]
    },
    {
      "cell_type": "markdown",
      "metadata": {
        "id": "mVI-W-1ZlRcj"
      },
      "source": [
        "El modelo inicial es capaz de predecir correctamente un 72 % de las observaciones del conjunto de test.\n",
        "\n"
      ]
    },
    {
      "cell_type": "markdown",
      "metadata": {
        "id": "KTJv3tCJlRcj"
      },
      "source": [
        "## Podado del árbol (pruning)"
      ]
    },
    {
      "cell_type": "markdown",
      "metadata": {
        "id": "vhM9dYnplRcj"
      },
      "source": [
        "Aunque inicialmente se ha empleado un valor de `max_depth=5`, este no tiene por qué ser el mejor valor. Con el objetivo de identificar la profundidad óptima que consigue reducir la varianza y aumentar la capacidad predictiva del modelo, se somete al árbol a un proceso de pruning.\n",
        "\n"
      ]
    },
    {
      "cell_type": "code",
      "execution_count": null,
      "metadata": {
        "id": "czRIXijvlRcj",
        "outputId": "4264c9df-11a6-4531-dbe2-372f864c9f9d"
      },
      "outputs": [
        {
          "name": "stderr",
          "output_type": "stream",
          "text": [
            "c:\\users\\user\\appdata\\local\\programs\\python\\python39\\lib\\site-packages\\ipykernel\\ipkernel.py:287: DeprecationWarning: `should_run_async` will not call `transform_cell` automatically in the future. Please pass the result to `transformed_cell` argument and any exception that happen during thetransform in `preprocessing_exc_tuple` in IPython 7.17 and above.\n",
            "  and should_run_async(code)\n"
          ]
        },
        {
          "data": {
            "image/png": "[encoded data removed]",
            "text/plain": [
              "<Figure size 432x276.48 with 1 Axes>"
            ]
          },
          "metadata": {
            "needs_background": "light"
          },
          "output_type": "display_data"
        }
      ],
      "source": [
        "# Post pruning (const complexity pruning) por validación cruzada\n",
        "# ------------------------------------------------------------------------------\n",
        "# Valores de ccp_alpha evaluados\n",
        "param_grid = {'ccp_alpha':np.linspace(0, 5, 10)}\n",
        "\n",
        "# Búsqueda por validación cruzada\n",
        "grid = GridSearchCV(\n",
        "        # El árbol se crece al máximo posible antes de aplicar el pruning\n",
        "        estimator = DecisionTreeClassifier(\n",
        "                            max_depth         = None,\n",
        "                            min_samples_split = 2,\n",
        "                            min_samples_leaf  = 1,\n",
        "                            random_state      = 123\n",
        "                       ),\n",
        "        param_grid = param_grid,\n",
        "        scoring    = 'accuracy',\n",
        "        cv         = 10,\n",
        "        refit      = True,\n",
        "        return_train_score = True\n",
        "      )\n",
        "\n",
        "grid.fit(X_train_prep, y_train)\n",
        "\n",
        "fig, ax = plt.subplots(figsize=(6, 3.84))\n",
        "scores = pd.DataFrame(grid.cv_results_)\n",
        "scores.plot(x='param_ccp_alpha', y='mean_train_score', yerr='std_train_score', ax=ax)\n",
        "scores.plot(x='param_ccp_alpha', y='mean_test_score', yerr='std_test_score', ax=ax)\n",
        "ax.set_title(\"Error de validacion cruzada vs hiperparámetro ccp_alpha\");"
      ]
    },
    {
      "cell_type": "code",
      "execution_count": null,
      "metadata": {
        "id": "B0L-FEV2lRcj",
        "outputId": "b2c218a0-63a4-4f1a-9415-bc36c252f7d1"
      },
      "outputs": [
        {
          "name": "stderr",
          "output_type": "stream",
          "text": [
            "c:\\users\\user\\appdata\\local\\programs\\python\\python39\\lib\\site-packages\\ipykernel\\ipkernel.py:287: DeprecationWarning: `should_run_async` will not call `transform_cell` automatically in the future. Please pass the result to `transformed_cell` argument and any exception that happen during thetransform in `preprocessing_exc_tuple` in IPython 7.17 and above.\n",
            "  and should_run_async(code)\n"
          ]
        },
        {
          "data": {
            "text/plain": [
              "{'ccp_alpha': 0.0}"
            ]
          },
          "execution_count": 37,
          "metadata": {},
          "output_type": "execute_result"
        }
      ],
      "source": [
        "# Mejor valor ccp_alpha encontrado\n",
        "# ------------------------------------------------------------------------------\n",
        "grid.best_params_"
      ]
    },
    {
      "cell_type": "markdown",
      "metadata": {
        "id": "BHw5-9Q9lRck"
      },
      "source": [
        "Una vez identificado el valor óptimo de `ccp_alpha`, se reentrena el árbol indicando este valor en sus argumentos. Si en el `GridSearchCV()` se indica `refit=True`, este reentrenamiento se hace automáticamente y el modelo resultante se encuentra almacenado en `.best_estimator_`.\n",
        "\n"
      ]
    },
    {
      "cell_type": "code",
      "execution_count": null,
      "metadata": {
        "id": "poDRHvyVlRck",
        "outputId": "df60d6f3-6b6c-4d2b-84fd-ff8db545197e"
      },
      "outputs": [
        {
          "name": "stdout",
          "output_type": "stream",
          "text": [
            "Profundidad del árbol: 9\n",
            "Número de nodos terminales: 49\n"
          ]
        }
      ],
      "source": [
        "# Estructura del árbol final\n",
        "modelo_final = grid.best_estimator_\n",
        "print(f\"Profundidad del árbol: {modelo_final.get_depth()}\")\n",
        "print(f\"Número de nodos terminales: {modelo_final.get_n_leaves()}\")"
      ]
    },
    {
      "cell_type": "code",
      "execution_count": null,
      "metadata": {
        "id": "H0SQbLUqlRck",
        "outputId": "bc1bf5cd-7a1f-4abd-a92c-a34b7c1607d4"
      },
      "outputs": [
        {
          "name": "stdout",
          "output_type": "stream",
          "text": [
            "El accuracy de test es: 75.0 %\n"
          ]
        }
      ],
      "source": [
        "# Error de test del modelo final\n",
        "#-------------------------------------------------------------------------------\n",
        "predicciones = modelo_final.predict(X = X_test_prep)\n",
        "\n",
        "accuracy = accuracy_score(\n",
        "            y_true    = y_test,\n",
        "            y_pred    = predicciones,\n",
        "            normalize = True\n",
        "           )\n",
        "print(f\"El accuracy de test es: {100 * accuracy} %\")"
      ]
    },
    {
      "cell_type": "markdown",
      "metadata": {
        "id": "NTTC5CTelRck"
      },
      "source": [
        "### Predictores"
      ]
    },
    {
      "cell_type": "markdown",
      "metadata": {
        "id": "t2YfjdtqlRck"
      },
      "source": [
        "La importancia de cada predictor en modelo se calcula como la reducción total (normalizada) en el criterio de división, en este caso el índice Gini, que consigue el predictor en las divisiones en las que participa. Si un predictor no ha sido seleccionado en ninguna divisón, no se ha incluido en el modelo y por lo tanto su importancia es 0.\n",
        "\n"
      ]
    },
    {
      "cell_type": "code",
      "execution_count": null,
      "metadata": {
        "id": "_SzMLbQwlRck",
        "outputId": "01530e83-c75d-42e8-f4be-734335d20418"
      },
      "outputs": [
        {
          "name": "stdout",
          "output_type": "stream",
          "text": [
            "Importancia de los predictores en el modelo\n",
            "-------------------------------------------\n"
          ]
        },
        {
          "name": "stderr",
          "output_type": "stream",
          "text": [
            "c:\\users\\user\\appdata\\local\\programs\\python\\python39\\lib\\site-packages\\ipykernel\\ipkernel.py:287: DeprecationWarning: `should_run_async` will not call `transform_cell` automatically in the future. Please pass the result to `transformed_cell` argument and any exception that happen during thetransform in `preprocessing_exc_tuple` in IPython 7.17 and above.\n",
            "  and should_run_async(code)\n"
          ]
        },
        {
          "data": {
            "text/html": [
              "<div>\n",
              "<style scoped>\n",
              "    .dataframe tbody tr th:only-of-type {\n",
              "        vertical-align: middle;\n",
              "    }\n",
              "\n",
              "    .dataframe tbody tr th {\n",
              "        vertical-align: top;\n",
              "    }\n",
              "\n",
              "    .dataframe thead th {\n",
              "        text-align: right;\n",
              "    }\n",
              "</style>\n",
              "<table border=\"1\" class=\"dataframe\">\n",
              "  <thead>\n",
              "    <tr style=\"text-align: right;\">\n",
              "      <th></th>\n",
              "      <th>predictor</th>\n",
              "      <th>importancia</th>\n",
              "    </tr>\n",
              "  </thead>\n",
              "  <tbody>\n",
              "    <tr>\n",
              "      <th>11</th>\n",
              "      <td>Urban_Yes</td>\n",
              "      <td>0.267291</td>\n",
              "    </tr>\n",
              "    <tr>\n",
              "      <th>7</th>\n",
              "      <td>ShelveLoc_Bad</td>\n",
              "      <td>0.173585</td>\n",
              "    </tr>\n",
              "    <tr>\n",
              "      <th>1</th>\n",
              "      <td>Income</td>\n",
              "      <td>0.163736</td>\n",
              "    </tr>\n",
              "    <tr>\n",
              "      <th>8</th>\n",
              "      <td>ShelveLoc_Good</td>\n",
              "      <td>0.093583</td>\n",
              "    </tr>\n",
              "    <tr>\n",
              "      <th>9</th>\n",
              "      <td>ShelveLoc_Medium</td>\n",
              "      <td>0.089938</td>\n",
              "    </tr>\n",
              "    <tr>\n",
              "      <th>12</th>\n",
              "      <td>US_No</td>\n",
              "      <td>0.055480</td>\n",
              "    </tr>\n",
              "    <tr>\n",
              "      <th>6</th>\n",
              "      <td>Education</td>\n",
              "      <td>0.039439</td>\n",
              "    </tr>\n",
              "    <tr>\n",
              "      <th>4</th>\n",
              "      <td>Price</td>\n",
              "      <td>0.035371</td>\n",
              "    </tr>\n",
              "    <tr>\n",
              "      <th>0</th>\n",
              "      <td>CompPrice</td>\n",
              "      <td>0.033437</td>\n",
              "    </tr>\n",
              "    <tr>\n",
              "      <th>10</th>\n",
              "      <td>Urban_No</td>\n",
              "      <td>0.024170</td>\n",
              "    </tr>\n",
              "    <tr>\n",
              "      <th>5</th>\n",
              "      <td>Age</td>\n",
              "      <td>0.012651</td>\n",
              "    </tr>\n",
              "    <tr>\n",
              "      <th>13</th>\n",
              "      <td>US_Yes</td>\n",
              "      <td>0.011319</td>\n",
              "    </tr>\n",
              "    <tr>\n",
              "      <th>2</th>\n",
              "      <td>Advertising</td>\n",
              "      <td>0.000000</td>\n",
              "    </tr>\n",
              "    <tr>\n",
              "      <th>3</th>\n",
              "      <td>Population</td>\n",
              "      <td>0.000000</td>\n",
              "    </tr>\n",
              "  </tbody>\n",
              "</table>\n",
              "</div>"
            ],
            "text/plain": [
              "           predictor  importancia\n",
              "11         Urban_Yes     0.267291\n",
              "7      ShelveLoc_Bad     0.173585\n",
              "1             Income     0.163736\n",
              "8     ShelveLoc_Good     0.093583\n",
              "9   ShelveLoc_Medium     0.089938\n",
              "12             US_No     0.055480\n",
              "6          Education     0.039439\n",
              "4              Price     0.035371\n",
              "0          CompPrice     0.033437\n",
              "10          Urban_No     0.024170\n",
              "5                Age     0.012651\n",
              "13            US_Yes     0.011319\n",
              "2        Advertising     0.000000\n",
              "3         Population     0.000000"
            ]
          },
          "execution_count": 40,
          "metadata": {},
          "output_type": "execute_result"
        }
      ],
      "source": [
        "print(\"Importancia de los predictores en el modelo\")\n",
        "print(\"-------------------------------------------\")\n",
        "importancia_predictores = pd.DataFrame(\n",
        "                            {'predictor': labels.tolist(),\n",
        "                             'importancia': modelo_final.feature_importances_}\n",
        "                            )\n",
        "importancia_predictores.sort_values('importancia', ascending=False)"
      ]
    },
    {
      "cell_type": "markdown",
      "metadata": {
        "id": "78NAH-qmlRck"
      },
      "source": [
        "### Predicción de probabilidades"
      ]
    },
    {
      "cell_type": "markdown",
      "metadata": {
        "id": "qVeW3aovlRck"
      },
      "source": [
        "La mayoría de implementaciones de los modelos basados en árboles, entre ellas la de scikit-learn, permiten predicir probabilidades cuando se trata de problemas de clasificación. Es importante entender cómo se calculan estos valores para interpretarlos y utilizarlos correctamente.\n",
        "\n",
        "En el ejemplo anterior, al aplicar `.predict()` se devuelve  1  (ventas elevadas) o  0  (ventas bajas) para cada observación de test. Sin embargo, no se dispone de ningún tipo de información sobre la seguridad con la que el modelo realiza esta asignación. Con `.predict_proba()`, en lugar de una clasificación, se obtiene la probabilidad con la que el modelo considera que cada observación puede pertenecer a cada una de las clases."
      ]
    },
    {
      "cell_type": "code",
      "execution_count": null,
      "metadata": {
        "id": "JM6IWEtGlRck",
        "outputId": "e3e2ba74-33ef-4d1c-dea3-ea70a60295cb"
      },
      "outputs": [
        {
          "name": "stderr",
          "output_type": "stream",
          "text": [
            "c:\\users\\user\\appdata\\local\\programs\\python\\python39\\lib\\site-packages\\ipykernel\\ipkernel.py:287: DeprecationWarning: `should_run_async` will not call `transform_cell` automatically in the future. Please pass the result to `transformed_cell` argument and any exception that happen during thetransform in `preprocessing_exc_tuple` in IPython 7.17 and above.\n",
            "  and should_run_async(code)\n"
          ]
        },
        {
          "data": {
            "text/plain": [
              "array([[1.        , 0.        ],\n",
              "       [0.        , 1.        ],\n",
              "       [0.89473684, 0.10526316],\n",
              "       [0.94444444, 0.05555556],\n",
              "       [0.89473684, 0.10526316]])"
            ]
          },
          "execution_count": 41,
          "metadata": {},
          "output_type": "execute_result"
        }
      ],
      "source": [
        "# Predicción de probabilidades\n",
        "#-------------------------------------------------------------------------------\n",
        "predicciones = modelo.predict_proba(X = X_test_prep)\n",
        "predicciones[:5, :]"
      ]
    },
    {
      "cell_type": "markdown",
      "metadata": {
        "id": "1WpGAzr_lRcl"
      },
      "source": [
        "El resultado de  `.predict_proba() ` es un array con una fila por observación y tantas columnas como clases tenga la variable respuesta. El valor de la primera columna se corresponde con la probabilidad, acorde al modelo, de que la observación pertenezca a la clase 0, y así sucesivamente. El valor de probabilidad mostrado para cada predicción se corresponde con la fracción de observaciones de cada classe en el nodo terminal al que ha llegado la observación predicha.\n",
        "\n",
        "Por defecto, `.predict()` asigna cada nueva observación a la clase con mayor probabilidad (en caso de empate se asigna de forma aleatoria). Sin embargo, este no tiene por qué ser el comportamiento deseado en todos los casos.\n"
      ]
    },
    {
      "cell_type": "code",
      "execution_count": null,
      "metadata": {
        "id": "FFpriSlmlRcl",
        "outputId": "07c3d9a0-8ce4-47f1-8ca7-0899ad045a42"
      },
      "outputs": [
        {
          "name": "stderr",
          "output_type": "stream",
          "text": [
            "c:\\users\\user\\appdata\\local\\programs\\python\\python39\\lib\\site-packages\\ipykernel\\ipkernel.py:287: DeprecationWarning: `should_run_async` will not call `transform_cell` automatically in the future. Please pass the result to `transformed_cell` argument and any exception that happen during thetransform in `preprocessing_exc_tuple` in IPython 7.17 and above.\n",
            "  and should_run_async(code)\n"
          ]
        },
        {
          "data": {
            "text/html": [
              "<div>\n",
              "<style scoped>\n",
              "    .dataframe tbody tr th:only-of-type {\n",
              "        vertical-align: middle;\n",
              "    }\n",
              "\n",
              "    .dataframe tbody tr th {\n",
              "        vertical-align: top;\n",
              "    }\n",
              "\n",
              "    .dataframe thead th {\n",
              "        text-align: right;\n",
              "    }\n",
              "</style>\n",
              "<table border=\"1\" class=\"dataframe\">\n",
              "  <thead>\n",
              "    <tr style=\"text-align: right;\">\n",
              "      <th></th>\n",
              "      <th>0</th>\n",
              "      <th>1</th>\n",
              "      <th>clasificacion_default_0.5</th>\n",
              "    </tr>\n",
              "  </thead>\n",
              "  <tbody>\n",
              "    <tr>\n",
              "      <th>0</th>\n",
              "      <td>1.000000</td>\n",
              "      <td>0.000000</td>\n",
              "      <td>0</td>\n",
              "    </tr>\n",
              "    <tr>\n",
              "      <th>1</th>\n",
              "      <td>0.000000</td>\n",
              "      <td>1.000000</td>\n",
              "      <td>1</td>\n",
              "    </tr>\n",
              "    <tr>\n",
              "      <th>2</th>\n",
              "      <td>0.894737</td>\n",
              "      <td>0.105263</td>\n",
              "      <td>0</td>\n",
              "    </tr>\n",
              "  </tbody>\n",
              "</table>\n",
              "</div>"
            ],
            "text/plain": [
              "          0         1  clasificacion_default_0.5\n",
              "0  1.000000  0.000000                          0\n",
              "1  0.000000  1.000000                          1\n",
              "2  0.894737  0.105263                          0"
            ]
          },
          "execution_count": 42,
          "metadata": {},
          "output_type": "execute_result"
        }
      ],
      "source": [
        "# Clasificación empleando la clase de mayor probabilidad\n",
        "# ------------------------------------------------------------------------------\n",
        "df_predicciones = pd.DataFrame(data=predicciones, columns=['0', '1'])\n",
        "df_predicciones['clasificacion_default_0.5'] = np.where(df_predicciones['0'] > df_predicciones['1'], 0, 1)\n",
        "df_predicciones.head(3)"
      ]
    },
    {
      "cell_type": "markdown",
      "metadata": {
        "id": "1Zxxk0FslRcl"
      },
      "source": [
        "Supóngase el siguiente escenario: la campaña de navidad se aproxima y los propietarios de la cadena quieren duplicar el stock de artículos en aquellas tiendas de las que se prevee que tengan ventas elevadas. Como el transporte de este material hasta las tiendas supone un coste elevado, el director quiere limitar esta estrategia únicamente a tiendas para las que se tenga mucha seguridad de que van conseguir muchas ventas.\n",
        "\n",
        "Si se dispone de las probabilidades, se puede establecer un punto de corte concreto, por ejemplo, considerando únicamente como clase  1  (ventas altas) aquellas tiendas cuya predicción para esta clase sea superior al 0.8 (80%). De esta forma, la clasificación final se ajusta mejor a las necesidades del caso de uso."
      ]
    },
    {
      "cell_type": "code",
      "execution_count": null,
      "metadata": {
        "id": "ORRg7JY5lRcl",
        "outputId": "749f178d-d6dd-4b73-c381-7fa7de865ce1"
      },
      "outputs": [
        {
          "name": "stderr",
          "output_type": "stream",
          "text": [
            "c:\\users\\user\\appdata\\local\\programs\\python\\python39\\lib\\site-packages\\ipykernel\\ipkernel.py:287: DeprecationWarning: `should_run_async` will not call `transform_cell` automatically in the future. Please pass the result to `transformed_cell` argument and any exception that happen during thetransform in `preprocessing_exc_tuple` in IPython 7.17 and above.\n",
            "  and should_run_async(code)\n"
          ]
        },
        {
          "data": {
            "text/html": [
              "<div>\n",
              "<style scoped>\n",
              "    .dataframe tbody tr th:only-of-type {\n",
              "        vertical-align: middle;\n",
              "    }\n",
              "\n",
              "    .dataframe tbody tr th {\n",
              "        vertical-align: top;\n",
              "    }\n",
              "\n",
              "    .dataframe thead th {\n",
              "        text-align: right;\n",
              "    }\n",
              "</style>\n",
              "<table border=\"1\" class=\"dataframe\">\n",
              "  <thead>\n",
              "    <tr style=\"text-align: right;\">\n",
              "      <th></th>\n",
              "      <th>0</th>\n",
              "      <th>1</th>\n",
              "      <th>clasificacion_default_0.5</th>\n",
              "      <th>clasificacion_custom_0.8</th>\n",
              "    </tr>\n",
              "  </thead>\n",
              "  <tbody>\n",
              "    <tr>\n",
              "      <th>5</th>\n",
              "      <td>0.500000</td>\n",
              "      <td>0.500000</td>\n",
              "      <td>1</td>\n",
              "      <td>0</td>\n",
              "    </tr>\n",
              "    <tr>\n",
              "      <th>6</th>\n",
              "      <td>0.071429</td>\n",
              "      <td>0.928571</td>\n",
              "      <td>1</td>\n",
              "      <td>1</td>\n",
              "    </tr>\n",
              "    <tr>\n",
              "      <th>7</th>\n",
              "      <td>0.944444</td>\n",
              "      <td>0.055556</td>\n",
              "      <td>0</td>\n",
              "      <td>0</td>\n",
              "    </tr>\n",
              "    <tr>\n",
              "      <th>8</th>\n",
              "      <td>0.014493</td>\n",
              "      <td>0.985507</td>\n",
              "      <td>1</td>\n",
              "      <td>1</td>\n",
              "    </tr>\n",
              "    <tr>\n",
              "      <th>9</th>\n",
              "      <td>0.291667</td>\n",
              "      <td>0.708333</td>\n",
              "      <td>1</td>\n",
              "      <td>0</td>\n",
              "    </tr>\n",
              "  </tbody>\n",
              "</table>\n",
              "</div>"
            ],
            "text/plain": [
              "          0         1  clasificacion_default_0.5  clasificacion_custom_0.8\n",
              "5  0.500000  0.500000                          1                         0\n",
              "6  0.071429  0.928571                          1                         1\n",
              "7  0.944444  0.055556                          0                         0\n",
              "8  0.014493  0.985507                          1                         1\n",
              "9  0.291667  0.708333                          1                         0"
            ]
          },
          "execution_count": 43,
          "metadata": {},
          "output_type": "execute_result"
        }
      ],
      "source": [
        "# Clasificación final empleando un threshold de 0.8 para la clase 1.\n",
        "df_predicciones['clasificacion_custom_0.8'] = np.where(df_predicciones['1'] > 0.8, 1, 0)\n",
        "df_predicciones.iloc[5:10, :]"
      ]
    },
    {
      "cell_type": "markdown",
      "metadata": {
        "id": "91Xrtc6-lRcl"
      },
      "source": [
        "Es muy importante tener en cuenta la diferencia entre la visión que tiene el modelo del mundo y el mundo real. Todo lo que sabe un modelo sobre el mundo real es lo que ha podido aprender de los datos de entrenamiento y, por lo tanto, tiene una visión limitada. Por ejemplo, supóngase que, en los datos de entrenamiento, todas las tiendas que están en zona urbana `Urban='Yes'` tienen ventas altas independientemente del valor que tomen el resto de predictores. Cuando el modelo trate de predecir una nueva observación, si esta está en zona urbana, clasificará a la tienda como ventas elevadas con un 100% de seguridad. Sin embargo, esto no significa que sea inequivocamente cierto, podría haber tiendas en zonas úrbanas que no tienen ventas elevadas pero, al no estar presentes en los datos de entrenamiento, el modelo no contempla esta posibilidad.\n",
        "\n",
        "Otro ejemplo de como estás probabilidades pueden ser engañosas es el siguiente. Si se deja crecer un árbol hasta que todas las observaciones de entrenamiento están en un nodo terminal distinto, cuando se realice una nueva predicción, independientemente del nodo en el que termine, el 100% de las observaciones (solo hay una) pertenecerán a la misma clase. Como el valor de la probabilidad es el porcentaje de observaciones que pertenecen a cada clase en el nodo terminal, el modelo predicirá siempre con un 100% de probabilidad aunque se equivoque.\n",
        "\n",
        "Teniendo en cuenta todo esto, hay que considerar las probabilidades generadas por el modelo como la seguridad que tiene este, desde su visión limitada, al realizar las predicciones. Pero no como la probailidad en el mundo real de que así lo sea."
      ]
    },
    {
      "cell_type": "code",
      "execution_count": null,
      "metadata": {
        "id": "v7yl5U_ulRcl"
      },
      "outputs": [],
      "source": [
        ""
      ]
    },
    {
      "cell_type": "code",
      "execution_count": null,
      "metadata": {
        "id": "Up5OhsROlRcl"
      },
      "outputs": [],
      "source": [
        ""
      ]
    }
  ],
  "metadata": {
    "kernelspec": {
      "display_name": "Python 3",
      "language": "python",
      "name": "python3"
    },
    "language_info": {
      "codemirror_mode": {
        "name": "ipython",
        "version": 3
      },
      "file_extension": ".py",
      "mimetype": "text/x-python",
      "name": "python",
      "nbconvert_exporter": "python",
      "pygments_lexer": "ipython3",
      "version": "3.9.4"
    },
    "colab": {
      "name": "Árbol de Decisión - Clasificación - Machine Learning.ipynb",
      "provenance": [],
      "include_colab_link": true
    }
  },
  "nbformat": 4,
  "nbformat_minor": 0
}