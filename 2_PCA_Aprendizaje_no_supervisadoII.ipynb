{
  "cells": [
    {
      "cell_type": "markdown",
      "metadata": {
        "id": "view-in-github",
        "colab_type": "text"
      },
      "source": [
        "<a href=\"https://colab.research.google.com/github/Psyclophe/Power-PDF/blob/master/2_PCA_Aprendizaje_no_supervisadoII.ipynb\" target=\"_parent\"><img src=\"https://colab.research.google.com/assets/colab-badge.svg\" alt=\"Open In Colab\"/></a>"
      ]
    },
    {
      "cell_type": "markdown",
      "metadata": {
        "id": "djeCM6Z4fej7"
      },
      "source": [
        "### Data Science\n",
        "### Módulo 2 _ Machine Learning\n",
        "### Aprendizaje no supervisado\n",
        "\n",
        "# PCA - Reducción de Dimensionalidad\n",
        "### `Skillsforindustry.org`\n"
      ]
    },
    {
      "cell_type": "code",
      "execution_count": null,
      "metadata": {
        "id": "mXQWLUbRfej-"
      },
      "outputs": [],
      "source": [
        "import pandas as pd\n",
        "import numpy as np\n",
        "import matplotlib.pyplot as plt\n",
        "%matplotlib inline\n",
        "plt.rcParams['figure.figsize'] = (16, 9)\n",
        "plt.style.use('ggplot')\n",
        "from sklearn.decomposition import PCA\n",
        "from sklearn.preprocessing import StandardScaler"
      ]
    },
    {
      "cell_type": "code",
      "execution_count": null,
      "metadata": {
        "colab": {
          "base_uri": "https://localhost:8080/",
          "height": 363
        },
        "id": "4rPsik4WfekA",
        "outputId": "3e46efc4-7274-4ac7-cc40-2d0794a84ef2"
      },
      "outputs": [
        {
          "output_type": "execute_result",
          "data": {
            "text/plain": [
              "     ingresos  gastos_comunes  pago_coche  gastos_otros  ahorros  vivienda  \\\n",
              "192      4653            1024         447           703    16952    392957   \n",
              "193      3390             881         194           584    34601    304112   \n",
              "194      2969             623          72           620    29663    289205   \n",
              "195      4169            1292          48           333    28503    239872   \n",
              "196      4054            1095         371           440    22183    223971   \n",
              "197      3831             690         352           488    10723    363120   \n",
              "198      3961            1030         270           475    21880    280421   \n",
              "199      3184             955         276           684    35565    388025   \n",
              "200      3334             867         369           652    19985    376892   \n",
              "201      3988            1157         105           382    11980    257580   \n",
              "\n",
              "     estado_civil  hijos  trabajo  comprar  \n",
              "192             0      0        3        0  \n",
              "193             2      2        5        0  \n",
              "194             2      2        6        0  \n",
              "195             2      1        7        1  \n",
              "196             1      0        3        0  \n",
              "197             0      0        2        0  \n",
              "198             2      3        8        0  \n",
              "199             1      3        8        0  \n",
              "200             1      2        5        0  \n",
              "201             0      0        4        0  "
            ],
            "text/html": [
              "\n",
              "  <div id=\"df-68b4bf10-cd9f-4278-be77-e0ed6be85f8c\">\n",
              "    <div class=\"colab-df-container\">\n",
              "      <div>\n",
              "<style scoped>\n",
              "    .dataframe tbody tr th:only-of-type {\n",
              "        vertical-align: middle;\n",
              "    }\n",
              "\n",
              "    .dataframe tbody tr th {\n",
              "        vertical-align: top;\n",
              "    }\n",
              "\n",
              "    .dataframe thead th {\n",
              "        text-align: right;\n",
              "    }\n",
              "</style>\n",
              "<table border=\"1\" class=\"dataframe\">\n",
              "  <thead>\n",
              "    <tr style=\"text-align: right;\">\n",
              "      <th></th>\n",
              "      <th>ingresos</th>\n",
              "      <th>gastos_comunes</th>\n",
              "      <th>pago_coche</th>\n",
              "      <th>gastos_otros</th>\n",
              "      <th>ahorros</th>\n",
              "      <th>vivienda</th>\n",
              "      <th>estado_civil</th>\n",
              "      <th>hijos</th>\n",
              "      <th>trabajo</th>\n",
              "      <th>comprar</th>\n",
              "    </tr>\n",
              "  </thead>\n",
              "  <tbody>\n",
              "    <tr>\n",
              "      <th>192</th>\n",
              "      <td>4653</td>\n",
              "      <td>1024</td>\n",
              "      <td>447</td>\n",
              "      <td>703</td>\n",
              "      <td>16952</td>\n",
              "      <td>392957</td>\n",
              "      <td>0</td>\n",
              "      <td>0</td>\n",
              "      <td>3</td>\n",
              "      <td>0</td>\n",
              "    </tr>\n",
              "    <tr>\n",
              "      <th>193</th>\n",
              "      <td>3390</td>\n",
              "      <td>881</td>\n",
              "      <td>194</td>\n",
              "      <td>584</td>\n",
              "      <td>34601</td>\n",
              "      <td>304112</td>\n",
              "      <td>2</td>\n",
              "      <td>2</td>\n",
              "      <td>5</td>\n",
              "      <td>0</td>\n",
              "    </tr>\n",
              "    <tr>\n",
              "      <th>194</th>\n",
              "      <td>2969</td>\n",
              "      <td>623</td>\n",
              "      <td>72</td>\n",
              "      <td>620</td>\n",
              "      <td>29663</td>\n",
              "      <td>289205</td>\n",
              "      <td>2</td>\n",
              "      <td>2</td>\n",
              "      <td>6</td>\n",
              "      <td>0</td>\n",
              "    </tr>\n",
              "    <tr>\n",
              "      <th>195</th>\n",
              "      <td>4169</td>\n",
              "      <td>1292</td>\n",
              "      <td>48</td>\n",
              "      <td>333</td>\n",
              "      <td>28503</td>\n",
              "      <td>239872</td>\n",
              "      <td>2</td>\n",
              "      <td>1</td>\n",
              "      <td>7</td>\n",
              "      <td>1</td>\n",
              "    </tr>\n",
              "    <tr>\n",
              "      <th>196</th>\n",
              "      <td>4054</td>\n",
              "      <td>1095</td>\n",
              "      <td>371</td>\n",
              "      <td>440</td>\n",
              "      <td>22183</td>\n",
              "      <td>223971</td>\n",
              "      <td>1</td>\n",
              "      <td>0</td>\n",
              "      <td>3</td>\n",
              "      <td>0</td>\n",
              "    </tr>\n",
              "    <tr>\n",
              "      <th>197</th>\n",
              "      <td>3831</td>\n",
              "      <td>690</td>\n",
              "      <td>352</td>\n",
              "      <td>488</td>\n",
              "      <td>10723</td>\n",
              "      <td>363120</td>\n",
              "      <td>0</td>\n",
              "      <td>0</td>\n",
              "      <td>2</td>\n",
              "      <td>0</td>\n",
              "    </tr>\n",
              "    <tr>\n",
              "      <th>198</th>\n",
              "      <td>3961</td>\n",
              "      <td>1030</td>\n",
              "      <td>270</td>\n",
              "      <td>475</td>\n",
              "      <td>21880</td>\n",
              "      <td>280421</td>\n",
              "      <td>2</td>\n",
              "      <td>3</td>\n",
              "      <td>8</td>\n",
              "      <td>0</td>\n",
              "    </tr>\n",
              "    <tr>\n",
              "      <th>199</th>\n",
              "      <td>3184</td>\n",
              "      <td>955</td>\n",
              "      <td>276</td>\n",
              "      <td>684</td>\n",
              "      <td>35565</td>\n",
              "      <td>388025</td>\n",
              "      <td>1</td>\n",
              "      <td>3</td>\n",
              "      <td>8</td>\n",
              "      <td>0</td>\n",
              "    </tr>\n",
              "    <tr>\n",
              "      <th>200</th>\n",
              "      <td>3334</td>\n",
              "      <td>867</td>\n",
              "      <td>369</td>\n",
              "      <td>652</td>\n",
              "      <td>19985</td>\n",
              "      <td>376892</td>\n",
              "      <td>1</td>\n",
              "      <td>2</td>\n",
              "      <td>5</td>\n",
              "      <td>0</td>\n",
              "    </tr>\n",
              "    <tr>\n",
              "      <th>201</th>\n",
              "      <td>3988</td>\n",
              "      <td>1157</td>\n",
              "      <td>105</td>\n",
              "      <td>382</td>\n",
              "      <td>11980</td>\n",
              "      <td>257580</td>\n",
              "      <td>0</td>\n",
              "      <td>0</td>\n",
              "      <td>4</td>\n",
              "      <td>0</td>\n",
              "    </tr>\n",
              "  </tbody>\n",
              "</table>\n",
              "</div>\n",
              "      <button class=\"colab-df-convert\" onclick=\"convertToInteractive('df-68b4bf10-cd9f-4278-be77-e0ed6be85f8c')\"\n",
              "              title=\"Convert this dataframe to an interactive table.\"\n",
              "              style=\"display:none;\">\n",
              "        \n",
              "  <svg xmlns=\"http://www.w3.org/2000/svg\" height=\"24px\"viewBox=\"0 0 24 24\"\n",
              "       width=\"24px\">\n",
              "    <path d=\"M0 0h24v24H0V0z\" fill=\"none\"/>\n",
              "    <path d=\"M18.56 5.44l.94 2.06.94-2.06 2.06-.94-2.06-.94-.94-2.06-.94 2.06-2.06.94zm-11 1L8.5 8.5l.94-2.06 2.06-.94-2.06-.94L8.5 2.5l-.94 2.06-2.06.94zm10 10l.94 2.06.94-2.06 2.06-.94-2.06-.94-.94-2.06-.94 2.06-2.06.94z\"/><path d=\"M17.41 7.96l-1.37-1.37c-.4-.4-.92-.59-1.43-.59-.52 0-1.04.2-1.43.59L10.3 9.45l-7.72 7.72c-.78.78-.78 2.05 0 2.83L4 21.41c.39.39.9.59 1.41.59.51 0 1.02-.2 1.41-.59l7.78-7.78 2.81-2.81c.8-.78.8-2.07 0-2.86zM5.41 20L4 18.59l7.72-7.72 1.47 1.35L5.41 20z\"/>\n",
              "  </svg>\n",
              "      </button>\n",
              "      \n",
              "  <style>\n",
              "    .colab-df-container {\n",
              "      display:flex;\n",
              "      flex-wrap:wrap;\n",
              "      gap: 12px;\n",
              "    }\n",
              "\n",
              "    .colab-df-convert {\n",
              "      background-color: #E8F0FE;\n",
              "      border: none;\n",
              "      border-radius: 50%;\n",
              "      cursor: pointer;\n",
              "      display: none;\n",
              "      fill: #1967D2;\n",
              "      height: 32px;\n",
              "      padding: 0 0 0 0;\n",
              "      width: 32px;\n",
              "    }\n",
              "\n",
              "    .colab-df-convert:hover {\n",
              "      background-color: #E2EBFA;\n",
              "      box-shadow: 0px 1px 2px rgba(60, 64, 67, 0.3), 0px 1px 3px 1px rgba(60, 64, 67, 0.15);\n",
              "      fill: #174EA6;\n",
              "    }\n",
              "\n",
              "    [theme=dark] .colab-df-convert {\n",
              "      background-color: #3B4455;\n",
              "      fill: #D2E3FC;\n",
              "    }\n",
              "\n",
              "    [theme=dark] .colab-df-convert:hover {\n",
              "      background-color: #434B5C;\n",
              "      box-shadow: 0px 1px 3px 1px rgba(0, 0, 0, 0.15);\n",
              "      filter: drop-shadow(0px 1px 2px rgba(0, 0, 0, 0.3));\n",
              "      fill: #FFFFFF;\n",
              "    }\n",
              "  </style>\n",
              "\n",
              "      <script>\n",
              "        const buttonEl =\n",
              "          document.querySelector('#df-68b4bf10-cd9f-4278-be77-e0ed6be85f8c button.colab-df-convert');\n",
              "        buttonEl.style.display =\n",
              "          google.colab.kernel.accessAllowed ? 'block' : 'none';\n",
              "\n",
              "        async function convertToInteractive(key) {\n",
              "          const element = document.querySelector('#df-68b4bf10-cd9f-4278-be77-e0ed6be85f8c');\n",
              "          const dataTable =\n",
              "            await google.colab.kernel.invokeFunction('convertToInteractive',\n",
              "                                                     [key], {});\n",
              "          if (!dataTable) return;\n",
              "\n",
              "          const docLinkHtml = 'Like what you see? Visit the ' +\n",
              "            '<a target=\"_blank\" href=https://colab.research.google.com/notebooks/data_table.ipynb>data table notebook</a>'\n",
              "            + ' to learn more about interactive tables.';\n",
              "          element.innerHTML = '';\n",
              "          dataTable['output_type'] = 'display_data';\n",
              "          await google.colab.output.renderOutput(dataTable, element);\n",
              "          const docLink = document.createElement('div');\n",
              "          docLink.innerHTML = docLinkHtml;\n",
              "          element.appendChild(docLink);\n",
              "        }\n",
              "      </script>\n",
              "    </div>\n",
              "  </div>\n",
              "  "
            ]
          },
          "metadata": {},
          "execution_count": 2
        }
      ],
      "source": [
        "#cargamos los datos de entrada\n",
        "dataframe = pd.read_csv(\"https://raw.githubusercontent.com/arturoTellez/S4I_DS_G2/main/M%C3%B3dulo%202_%20Machine%20Learning/DS%20-M%C3%B3dulo%202-%20Sesi%C3%B3n%206/comprar_alquilar.csv\")\n",
        "dataframe.tail(10)\n",
        " "
      ]
    },
    {
      "cell_type": "code",
      "source": [
        "#fit (obtiene la media y la desviación)\n",
        "mean = dataframe.mean(axis = 0)[\"ingresos\"]\n",
        "std = dataframe.std(axis = 0)[\"ingresos\"]\n"
      ],
      "metadata": {
        "id": "9-lbQiSy1-LB"
      },
      "execution_count": null,
      "outputs": []
    },
    {
      "cell_type": "code",
      "source": [
        "#fit_transform (obtiene la media y la desviación, y se lo aplica  a los datos)\n",
        "mean = dataframe.mean(axis = 0)[\"ingresos\"]\n",
        "std = dataframe.std(axis = 0)[\"ingresos\"]\n",
        "(dataframe[\"ingresos\"] - mean) / std"
      ],
      "metadata": {
        "colab": {
          "base_uri": "https://localhost:8080/"
        },
        "id": "jjsHKvkoa923",
        "outputId": "1e8ebf33-4250-4977-928a-0682db7ff8bc"
      },
      "execution_count": null,
      "outputs": [
        {
          "output_type": "execute_result",
          "data": {
            "text/plain": [
              "0      0.618592\n",
              "1      1.061290\n",
              "2      0.888964\n",
              "3      1.271051\n",
              "4      0.717827\n",
              "         ...   \n",
              "197   -0.670284\n",
              "198   -0.593034\n",
              "199   -1.054747\n",
              "200   -0.965614\n",
              "201   -0.576990\n",
              "Name: ingresos, Length: 202, dtype: float64"
            ]
          },
          "metadata": {},
          "execution_count": 4
        }
      ]
    },
    {
      "cell_type": "code",
      "source": [
        "#.transform (Aplica la formula)\n",
        "(10 - mean) / std"
      ],
      "metadata": {
        "colab": {
          "base_uri": "https://localhost:8080/"
        },
        "id": "I72oqtzTblZh",
        "outputId": "35e2348a-5cef-40a9-dd22-f0ad8e31915f"
      },
      "execution_count": null,
      "outputs": [
        {
          "output_type": "execute_result",
          "data": {
            "text/plain": [
              "-2.94081951688325"
            ]
          },
          "metadata": {},
          "execution_count": 5
        }
      ]
    },
    {
      "cell_type": "code",
      "execution_count": null,
      "metadata": {
        "id": "Hm5hs3YtfekB"
      },
      "outputs": [],
      "source": [
        "#normalizamos los datos\n",
        "scaler=StandardScaler()\n",
        "df = dataframe.drop(['comprar'], axis=1) # quito la variable dependiente \"Y\"\n",
        "scaler.fit(df) # calculo la media para poder hacer la transformacion\n",
        "X_scaled=scaler.transform(df)# Ahora si, escalo los datos y los normalizo\n",
        "X_scaled=scaler.fit_transform(df)"
      ]
    },
    {
      "cell_type": "code",
      "execution_count": null,
      "metadata": {
        "id": "v5yokLu9fekD"
      },
      "outputs": [],
      "source": [
        "#Instanciamos objeto PCA y aplicamos\n",
        "pca=PCA(n_components=9) # Otra opción es instanciar pca sólo con dimensiones nuevas hasta obtener un mínimo \"explicado\" ej.: pca=PCA(.85)\n",
        "pca.fit(X_scaled) # obtener los componentes principales\n",
        "X_pca=pca.transform(X_scaled) # convertimos nuestros datos con las nuevas dimensiones de PCA"
      ]
    },
    {
      "cell_type": "code",
      "source": [
        "pca.get_covariance()"
      ],
      "metadata": {
        "colab": {
          "base_uri": "https://localhost:8080/"
        },
        "id": "8l51iwFBfLNh",
        "outputId": "23b6ee2a-e1b5-4c8f-aab0-a004305df3ec"
      },
      "execution_count": null,
      "outputs": [
        {
          "output_type": "execute_result",
          "data": {
            "text/plain": [
              "array([[ 1.00497512,  0.5629981 , -0.11032655, -0.12472213,  0.71643609,\n",
              "         0.61777897, -0.04276731, -0.02460492, -0.03904572],\n",
              "       [ 0.5629981 ,  1.00497512, -0.05467034, -0.10037758,  0.21045568,\n",
              "         0.20579933, -0.05743681, -0.07268108, -0.07948892],\n",
              "       [-0.11032655, -0.05467034,  1.00497512,  0.01065519, -0.19426111,\n",
              "        -0.09510155,  0.0524989 , -0.04508134,  0.01903984],\n",
              "       [-0.12472213, -0.10037758,  0.01065519,  1.00497512, -0.06470463,\n",
              "        -0.05484819, -0.02032621,  0.12546587,  0.04754858],\n",
              "       [ 0.71643609,  0.21045568, -0.19426111, -0.06470463,  1.00497512,\n",
              "         0.60884971, -0.06335265,  0.00145255, -0.02394761],\n",
              "       [ 0.61777897,  0.20579933, -0.09510155, -0.05484819,  0.60884971,\n",
              "         1.00497512, -0.11398447, -0.14263039, -0.21284321],\n",
              "       [-0.04276731, -0.05743681,  0.0524989 , -0.02032621, -0.06335265,\n",
              "        -0.11398447,  1.00497512,  0.51013414,  0.59244489],\n",
              "       [-0.02460492, -0.07268108, -0.04508134,  0.12546587,  0.00145255,\n",
              "        -0.14263039,  0.51013414,  1.00497512,  0.70339821],\n",
              "       [-0.03904572, -0.07948892,  0.01903984,  0.04754858, -0.02394761,\n",
              "        -0.21284321,  0.59244489,  0.70339821,  1.00497512]])"
            ]
          },
          "metadata": {},
          "execution_count": 8
        }
      ]
    },
    {
      "cell_type": "code",
      "source": [
        "pca.explained_variance_"
      ],
      "metadata": {
        "colab": {
          "base_uri": "https://localhost:8080/"
        },
        "id": "InTe3BaGe9Xm",
        "outputId": "9b170640-e60e-4c09-badd-d2f13c10c994"
      },
      "execution_count": null,
      "outputs": [
        {
          "output_type": "execute_result",
          "data": {
            "text/plain": [
              "array([2.70561424, 2.10697364, 1.05925553, 0.96649057, 0.87148938,\n",
              "       0.50920879, 0.37495835, 0.27295496, 0.17783067])"
            ]
          },
          "metadata": {},
          "execution_count": 9
        }
      ]
    },
    {
      "cell_type": "code",
      "source": [
        "pca.explained_variance_.sum()"
      ],
      "metadata": {
        "colab": {
          "base_uri": "https://localhost:8080/"
        },
        "id": "WtFnYCwMfvx5",
        "outputId": "52d149c4-c8a4-4b7c-f4ad-64c88b94cb83"
      },
      "execution_count": null,
      "outputs": [
        {
          "output_type": "execute_result",
          "data": {
            "text/plain": [
              "9.044776119402977"
            ]
          },
          "metadata": {},
          "execution_count": 10
        }
      ]
    },
    {
      "cell_type": "code",
      "source": [
        "pca.explained_variance_ / pca.explained_variance_.sum()"
      ],
      "metadata": {
        "colab": {
          "base_uri": "https://localhost:8080/"
        },
        "id": "btrFq98beqmL",
        "outputId": "b59aaf80-cb5e-46c5-b287-d486ca2fb806"
      },
      "execution_count": null,
      "outputs": [
        {
          "output_type": "execute_result",
          "data": {
            "text/plain": [
              "array([0.29913557, 0.23294923, 0.11711241, 0.10685622, 0.09635279,\n",
              "       0.05629866, 0.04145579, 0.03017819, 0.01966115])"
            ]
          },
          "metadata": {},
          "execution_count": 25
        }
      ]
    },
    {
      "cell_type": "code",
      "source": [
        "pca.explained_variance_ratio_"
      ],
      "metadata": {
        "colab": {
          "base_uri": "https://localhost:8080/"
        },
        "id": "Bjy1IepQf4nv",
        "outputId": "3a61b05f-6487-4fd8-8e94-0d76e12886dd"
      },
      "execution_count": null,
      "outputs": [
        {
          "output_type": "execute_result",
          "data": {
            "text/plain": [
              "array([0.29913557, 0.23294923, 0.11711241, 0.10685622, 0.09635279,\n",
              "       0.05629866, 0.04145579, 0.03017819, 0.01966115])"
            ]
          },
          "metadata": {},
          "execution_count": 11
        }
      ]
    },
    {
      "cell_type": "code",
      "source": [
        "dir(pca)"
      ],
      "metadata": {
        "colab": {
          "base_uri": "https://localhost:8080/"
        },
        "id": "7J4GzHiHekZM",
        "outputId": "0d07581b-2dd4-4398-b00d-c19628569c28"
      },
      "execution_count": null,
      "outputs": [
        {
          "output_type": "execute_result",
          "data": {
            "text/plain": [
              "['__abstractmethods__',\n",
              " '__class__',\n",
              " '__delattr__',\n",
              " '__dict__',\n",
              " '__dir__',\n",
              " '__doc__',\n",
              " '__eq__',\n",
              " '__format__',\n",
              " '__ge__',\n",
              " '__getattribute__',\n",
              " '__getstate__',\n",
              " '__gt__',\n",
              " '__hash__',\n",
              " '__init__',\n",
              " '__init_subclass__',\n",
              " '__le__',\n",
              " '__lt__',\n",
              " '__module__',\n",
              " '__ne__',\n",
              " '__new__',\n",
              " '__reduce__',\n",
              " '__reduce_ex__',\n",
              " '__repr__',\n",
              " '__setattr__',\n",
              " '__setstate__',\n",
              " '__sizeof__',\n",
              " '__str__',\n",
              " '__subclasshook__',\n",
              " '__weakref__',\n",
              " '_abc_impl',\n",
              " '_check_feature_names',\n",
              " '_check_n_features',\n",
              " '_fit',\n",
              " '_fit_full',\n",
              " '_fit_svd_solver',\n",
              " '_fit_truncated',\n",
              " '_get_param_names',\n",
              " '_get_tags',\n",
              " '_more_tags',\n",
              " '_repr_html_',\n",
              " '_repr_html_inner',\n",
              " '_repr_mimebundle_',\n",
              " '_validate_data',\n",
              " 'components_',\n",
              " 'copy',\n",
              " 'explained_variance_',\n",
              " 'explained_variance_ratio_',\n",
              " 'fit',\n",
              " 'fit_transform',\n",
              " 'get_covariance',\n",
              " 'get_params',\n",
              " 'get_precision',\n",
              " 'inverse_transform',\n",
              " 'iterated_power',\n",
              " 'mean_',\n",
              " 'n_components',\n",
              " 'n_components_',\n",
              " 'n_features_',\n",
              " 'n_features_in_',\n",
              " 'n_samples_',\n",
              " 'noise_variance_',\n",
              " 'random_state',\n",
              " 'score',\n",
              " 'score_samples',\n",
              " 'set_params',\n",
              " 'singular_values_',\n",
              " 'svd_solver',\n",
              " 'tol',\n",
              " 'transform',\n",
              " 'whiten']"
            ]
          },
          "metadata": {},
          "execution_count": 19
        }
      ]
    },
    {
      "cell_type": "code",
      "execution_count": null,
      "metadata": {
        "id": "A-Yt27ukfekD",
        "outputId": "2615edd5-11e0-4390-ae85-63219ef43eb5",
        "colab": {
          "base_uri": "https://localhost:8080/"
        }
      },
      "outputs": [
        {
          "output_type": "stream",
          "name": "stdout",
          "text": [
            "shape of X_pca (202, 9)\n",
            "[0.29913557 0.23294923 0.11711241 0.10685622 0.09635279 0.05629866\n",
            " 0.04145579 0.03017819 0.01966115]\n",
            "suma: 0.852406211771431\n"
          ]
        }
      ],
      "source": [
        "print(\"shape of X_pca\", X_pca.shape)\n",
        "expl = pca.explained_variance_ratio_\n",
        "print(expl)\n",
        "print('suma:',sum(expl[0:5]))\n",
        "#Vemos que con 5 componentes tenemos algo mas del 85% de varianza explicada"
      ]
    },
    {
      "cell_type": "code",
      "execution_count": null,
      "metadata": {
        "id": "uHsB7JXrfekE",
        "outputId": "baeff8e7-235b-4ce6-c528-303558c618c3",
        "colab": {
          "base_uri": "https://localhost:8080/",
          "height": 554
        }
      },
      "outputs": [
        {
          "output_type": "display_data",
          "data": {
            "text/plain": [
              "<Figure size 1152x648 with 1 Axes>"
            ],
            "image/png": "[encoded data removed]"
          },
          "metadata": {}
        }
      ],
      "source": [
        "#graficamos el acumulado de varianza explicada en las nuevas dimensiones\n",
        "plt.plot(np.cumsum(pca.explained_variance_ratio_))\n",
        "plt.xlabel('number of components')\n",
        "plt.ylabel('cumulative explained variance')\n",
        "plt.show()"
      ]
    },
    {
      "cell_type": "markdown",
      "metadata": {
        "id": "zjHmjp6TfekF"
      },
      "source": [
        "En esta gráfica de variabilidad explicada acumulada, vemos que tomando los primeros 5 componentes llegamos al 85%"
      ]
    },
    {
      "cell_type": "code",
      "execution_count": null,
      "metadata": {
        "id": "-wEQDp-NfekF",
        "outputId": "f5c6ce03-27e4-40b1-f0ec-6a44bfef0731",
        "colab": {
          "base_uri": "https://localhost:8080/",
          "height": 338
        }
      },
      "outputs": [
        {
          "output_type": "display_data",
          "data": {
            "text/plain": [
              "<Figure size 504x360 with 1 Axes>"
            ],
            "image/png": "[encoded data removed]"
          },
          "metadata": {}
        }
      ],
      "source": [
        "#graficamos en 2 Dimensiones, tomando los 2 primeros componentes principales\n",
        "Xax=X_pca[:,0]\n",
        "Yax=X_pca[:,1]\n",
        "labels=dataframe['comprar'].values\n",
        "cdict={0:'red',1:'green'}\n",
        "labl={0:'Alquilar',1:'Comprar'}\n",
        "marker={0:'*',1:'o'}\n",
        "alpha={0:.3, 1:.5}\n",
        "fig,ax=plt.subplots(figsize=(7,5))\n",
        "fig.patch.set_facecolor('white')\n",
        "for l in np.unique(labels):\n",
        "    ix=np.where(labels==l)\n",
        "    ax.scatter(Xax[ix],Yax[ix],c=cdict[l],label=labl[l],s=40,marker=marker[l],alpha=alpha[l])\n",
        "    \n",
        "    \n",
        "plt.xlabel(\"First Principal Component\",fontsize=14)\n",
        "plt.ylabel(\"Second Principal Component\",fontsize=14)\n",
        "plt.legend()\n",
        "plt.show()"
      ]
    },
    {
      "cell_type": "markdown",
      "metadata": {
        "id": "PJbGxYvBfekH"
      },
      "source": [
        "Aquí vemos que al reducir las 9 dimensiones iniciales a tan sólo 2 logramos darnos una idea de dónde visualizar nuestras predicciones para comprar o alquilar casa."
      ]
    },
    {
      "cell_type": "markdown",
      "metadata": {
        "id": "iNvSZfpsfekI"
      },
      "source": [
        "## Conclusiones Finales"
      ]
    },
    {
      "cell_type": "markdown",
      "metadata": {
        "id": "Qbm6iAATfekI"
      },
      "source": [
        "Con PCA obtenemos:\n",
        "\n",
        "* una medida de como cada variable se asocia con las otras (matriz de covarianza)\n",
        "* La dirección en las que nuestros datos están dispersos (autovectores)\n",
        "* La relativa importancia de esas distintas direcciones (autovalores)\n",
        "\n",
        "PCA combina nuestros predictores y nos permite deshacernos de los autovectores de menor importancia relativa."
      ]
    }
  ],
  "metadata": {
    "kernelspec": {
      "display_name": "Python 3",
      "language": "python",
      "name": "python3"
    },
    "language_info": {
      "codemirror_mode": {
        "name": "ipython",
        "version": 3
      },
      "file_extension": ".py",
      "mimetype": "text/x-python",
      "name": "python",
      "nbconvert_exporter": "python",
      "pygments_lexer": "ipython3",
      "version": "3.9.4"
    },
    "colab": {
      "name": "2 PCA - Aprendizaje no supervisado.ipynb",
      "provenance": [],
      "collapsed_sections": [],
      "include_colab_link": true
    }
  },
  "nbformat": 4,
  "nbformat_minor": 0
}