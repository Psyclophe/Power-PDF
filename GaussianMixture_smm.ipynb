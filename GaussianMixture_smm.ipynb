{
  "nbformat": 4,
  "nbformat_minor": 0,
  "metadata": {
    "colab": {
      "name": "GaussianMixture smm.ipynb",
      "provenance": [],
      "include_colab_link": true
    },
    "kernelspec": {
      "name": "python3",
      "display_name": "Python 3"
    },
    "language_info": {
      "name": "python"
    }
  },
  "cells": [
    {
      "cell_type": "markdown",
      "metadata": {
        "id": "view-in-github",
        "colab_type": "text"
      },
      "source": [
        "<a href=\"https://colab.research.google.com/github/Psyclophe/Power-PDF/blob/master/GaussianMixture_smm.ipynb\" target=\"_parent\"><img src=\"https://colab.research.google.com/assets/colab-badge.svg\" alt=\"Open In Colab\"/></a>"
      ]
    },
    {
      "cell_type": "code",
      "execution_count": null,
      "metadata": {
        "colab": {
          "base_uri": "https://localhost:8080/"
        },
        "id": "fjVIlemOnV-z",
        "outputId": "989dd765-ca39-4d6f-8ba9-ae1246ee25b3"
      },
      "outputs": [
        {
          "output_type": "stream",
          "name": "stdout",
          "text": [
            "3\n"
          ]
        }
      ],
      "source": [
        "import numpy as np \n",
        "import matplotlib.pyplot as plt \n",
        "from matplotlib import patches \n",
        " \n",
        "from sklearn import datasets \n",
        "from sklearn.mixture import GaussianMixture as GMM \n",
        "from sklearn.model_selection import StratifiedKFold\n",
        "\n",
        "# Load the iris dataset \n",
        "iris = datasets.load_iris()\n",
        "# Split dataset into training and testing (80/20 split) \n",
        "indices = StratifiedKFold(n_splits=5) #el data set se divide en 5 partes\n",
        "# Take the first fold \n",
        "train_index, test_index = next(indices.split(iris[\"data\"], iris.target))\n",
        " \n",
        "# Extract training data and labels \n",
        "X_train = iris.data[train_index] \n",
        "y_train = iris.target[train_index]\n",
        "# Extract testing data and labels \n",
        "X_test = iris.data[test_index] \n",
        "y_test = iris.target[test_index]\n",
        "\n",
        "# Extract the number of classes \n",
        "num_classes = len(np.unique(y_train))\n",
        "print(num_classes)"
      ]
    },
    {
      "cell_type": "code",
      "source": [
        "# Build GMM \n",
        "classifier = GMM(n_components=num_classes, covariance_type='full',  \n",
        "        init_params='kmeans', max_iter=20) #n_iter : num de iter de EM, wc pesos y covarianzas se actualizan en cada iteración\n",
        "# Initialize the GMM means  \n",
        "classifier.means_ = np.array([X_train[y_train == i].mean(axis=0) \n",
        "                              for i in range(num_classes)])\n",
        "print(classifier.means_)"
      ],
      "metadata": {
        "colab": {
          "base_uri": "https://localhost:8080/"
        },
        "id": "vaqGr4ZpnYoh",
        "outputId": "9521d393-8fb4-4cde-a7b6-b3ea1574a43f"
      },
      "execution_count": null,
      "outputs": [
        {
          "output_type": "stream",
          "name": "stdout",
          "text": [
            "[[5.0425 3.4575 1.465  0.2525]\n",
            " [5.895  2.745  4.2325 1.3125]\n",
            " [6.5925 2.9825 5.4975 2.0225]]\n"
          ]
        }
      ]
    },
    {
      "cell_type": "code",
      "source": [
        "# Train the GMM classifier  \n",
        "classifier.fit(X_train)"
      ],
      "metadata": {
        "colab": {
          "base_uri": "https://localhost:8080/"
        },
        "id": "b1BuCTLfnaLT",
        "outputId": "c06f25b1-7d73-4d6c-96b1-6447a2de7cea"
      },
      "execution_count": null,
      "outputs": [
        {
          "output_type": "stream",
          "name": "stderr",
          "text": [
            "/usr/local/lib/python3.7/dist-packages/sklearn/mixture/_base.py:282: ConvergenceWarning: Initialization 1 did not converge. Try different init parameters, or increase max_iter, tol or check for degenerate data.\n",
            "  ConvergenceWarning,\n"
          ]
        },
        {
          "output_type": "execute_result",
          "data": {
            "text/plain": [
              "GaussianMixture(max_iter=20, n_components=3)"
            ]
          },
          "metadata": {},
          "execution_count": 28
        }
      ]
    },
    {
      "cell_type": "code",
      "source": [
        "# Draw boundaries \n",
        "plt.figure() \n",
        "colors = 'bgr'  #colores rgb\n",
        "for i, color in enumerate(colors): \n",
        "    # Extract eigenvalues and eigenvectors \n",
        "    eigenvalues, eigenvectors = np.linalg.eigh( \n",
        "            classifier.covariances_[i][:2, :2]) #valores y vectores propios de la matriz de covarianzas de 2x2 (2dimensiones)\n",
        "    \n",
        "     # Normalize the first eigenvector \n",
        "    norm_vec = eigenvectors[0] / np.linalg.norm(eigenvectors[0])    \n",
        "    # Extract the angle of tilt \n",
        "    angle = np.arctan2(norm_vec[1], norm_vec[0]) \n",
        "    angle = 180 * angle / np.pi\n",
        "    # Scaling factor to magnify the ellipses \n",
        "    # (random value chosen to suit our needs) \n",
        "    scaling_factor = 8 \n",
        "    eigenvalues *= scaling_factor\n",
        "    # Draw the ellipse \n",
        "    ellipse = patches.Ellipse(classifier.means_[i, :2],  \n",
        "    eigenvalues[0], eigenvalues[1], 180 + angle,  \n",
        "    color=color) \n",
        "    axis_handle = plt.subplot(1, 1, 1) \n",
        "    ellipse.set_clip_box(axis_handle.bbox) \n",
        "    ellipse.set_alpha(0.6)  #transparencia\n",
        "    axis_handle.add_artist(ellipse)\n",
        "\n",
        "# Plot the data  \n",
        "colors = 'bgr' \n",
        "for i, color in enumerate(colors): \n",
        "    cur_data = iris.data[iris.target == i] \n",
        "    plt.scatter(cur_data[:,0], cur_data[:,1], marker='o',  \n",
        "            facecolors='none', edgecolors='black', s=40,  \n",
        "            label=iris.target_names[i])\n",
        "    \n",
        "    test_data = X_test[y_test == i] \n",
        "    plt.scatter(test_data[:,0], test_data[:,1], marker='s',  \n",
        "            facecolors='black', edgecolors='black', s=40,  \n",
        "            label=iris.target_names[i])\n",
        "# Compute predictions for training and testing data \n",
        "y_train_pred = classifier.predict(X_train) \n",
        "accuracy_training = np.mean(y_train_pred.ravel() == y_train.ravel()) * 100\n",
        "print('Accuracy on training data =', accuracy_training) \n",
        " \n",
        "y_test_pred = classifier.predict(X_test) \n",
        "accuracy_testing = np.mean(y_test_pred.ravel() == y_test.ravel()) * 100 \n",
        "print('Accuracy on testing data =', accuracy_testing) \n",
        " \n",
        "plt.title('GMM classifier') \n",
        "plt.xticks(()) \n",
        "plt.yticks(()) \n",
        " \n",
        "plt.show()"
      ],
      "metadata": {
        "colab": {
          "base_uri": "https://localhost:8080/",
          "height": 340
        },
        "id": "zxqptZmBpGMd",
        "outputId": "2721749b-3a2a-4f8b-93c5-81aa81ca6f10"
      },
      "execution_count": null,
      "outputs": [
        {
          "output_type": "stream",
          "name": "stdout",
          "text": [
            "Accuracy on training data = 4.166666666666666\n",
            "Accuracy on testing data = 0.0\n"
          ]
        },
        {
          "output_type": "stream",
          "name": "stderr",
          "text": [
            "/usr/local/lib/python3.7/dist-packages/ipykernel_launcher.py:22: MatplotlibDeprecationWarning: Adding an axes using the same arguments as a previous axes currently reuses the earlier instance.  In a future version, a new instance will always be created and returned.  Meanwhile, this warning can be suppressed, and the future behavior ensured, by passing a unique label to each axes instance.\n"
          ]
        },
        {
          "output_type": "display_data",
          "data": {
            "text/plain": [
              "<Figure size 432x288 with 1 Axes>"
            ],
            "image/png": "[encoded data removed]"
          },
          "metadata": {}
        }
      ]
    },
    {
      "cell_type": "code",
      "source": [
        "classifier.covariances_"
      ],
      "metadata": {
        "colab": {
          "base_uri": "https://localhost:8080/"
        },
        "id": "bPcAK1XFpfNk",
        "outputId": "0801a09c-7e09-4061-a0f1-18c478aea861"
      },
      "execution_count": null,
      "outputs": [
        {
          "output_type": "execute_result",
          "data": {
            "text/plain": [
              "array([[[0.20606642, 0.06753688, 0.14621326, 0.04491749],\n",
              "        [0.06753688, 0.08584992, 0.07554969, 0.04052257],\n",
              "        [0.14621326, 0.07554969, 0.1925913 , 0.05839389],\n",
              "        [0.04491749, 0.04052257, 0.05839389, 0.03172168]],\n",
              "\n",
              "       [[0.3457733 , 0.08355099, 0.27586887, 0.05578471],\n",
              "        [0.08355099, 0.11118528, 0.07696636, 0.04872812],\n",
              "        [0.27586887, 0.07696636, 0.30174126, 0.06575891],\n",
              "        [0.05578471, 0.04872812, 0.06575891, 0.0843744 ]],\n",
              "\n",
              "       [[0.12644475, 0.10030625, 0.0152375 , 0.00951875],\n",
              "        [0.10030625, 0.15044475, 0.0100125 , 0.00673125],\n",
              "        [0.0152375 , 0.0100125 , 0.034276  , 0.0063375 ],\n",
              "        [0.00951875, 0.00673125, 0.0063375 , 0.01199475]]])"
            ]
          },
          "metadata": {},
          "execution_count": 34
        }
      ]
    }
  ]
}